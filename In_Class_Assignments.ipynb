{
  "cells": [
    {
      "cell_type": "markdown",
      "metadata": {
        "id": "view-in-github",
        "colab_type": "text"
      },
      "source": [
        "<a href=\"https://colab.research.google.com/github/SMajor88/BTE320/blob/main/In_Class_Assignments.ipynb\" target=\"_parent\"><img src=\"https://colab.research.google.com/assets/colab-badge.svg\" alt=\"Open In Colab\"/></a>"
      ]
    },
    {
      "cell_type": "code",
      "execution_count": null,
      "metadata": {
        "colab": {
          "base_uri": "https://localhost:8080/"
        },
        "id": "moWfTpwADxn-",
        "outputId": "c9b8da5e-b8bd-478f-f45f-5bc7ca9a44df"
      },
      "outputs": [
        {
          "output_type": "stream",
          "name": "stdout",
          "text": [
            "Please insert the height:4\n",
            "Please insert the radius:4\n",
            "5048.1152\n"
          ]
        }
      ],
      "source": [
        "pi = 3.14\n",
        "height = float(input(\"Please insert the height:\"))\n",
        "radius = float(input(\"Please insert the radius:\"))\n",
        "Area = 2 *pi * radius** + 2* pi*radius*height\n",
        "print(Area)"
      ]
    },
    {
      "cell_type": "code",
      "execution_count": null,
      "metadata": {
        "colab": {
          "base_uri": "https://localhost:8080/"
        },
        "id": "rBSLn2JLsiC7",
        "outputId": "22f64f24-dde8-4705-c5f3-d8e326cbaf39"
      },
      "outputs": [
        {
          "name": "stdout",
          "output_type": "stream",
          "text": [
            "Input first number 5\n",
            "Input second number 5\n",
            "Input operation +\n",
            "10\n",
            "total = (5, '+', 5)\n"
          ]
        }
      ],
      "source": [
        "n1 = int(input(\"Input first number \"))\n",
        "n2 = int(input(\"Input second number \"))\n",
        "operation = input(\"Input operation \")\n",
        "if operation == '+':\n",
        "  print(n1+n2)\n",
        "elif operation == '-':\n",
        "  print(n1-n2)\n",
        "elif operation == '*':\n",
        "  print(n1*n2)\n",
        "elif operation == '/':\n",
        "  print(n1/n2)\n",
        "elif operation == '//':\n",
        "  print(n1//n2)\n",
        "elif operation =='**':\n",
        "  print(n1**n2)\n",
        "elif operation == '%':\n",
        "  print(n1%n2)\n",
        "\n",
        "total=(n1, operation, n2)\n",
        "print(f'total = {total}')"
      ]
    },
    {
      "cell_type": "code",
      "execution_count": null,
      "metadata": {
        "colab": {
          "base_uri": "https://localhost:8080/"
        },
        "id": "-j5CU518b60N",
        "outputId": "d76ce5e8-b65d-4342-d581-cb5643bcabea"
      },
      "outputs": [
        {
          "name": "stdout",
          "output_type": "stream",
          "text": [
            "1 10.0\n",
            "2 10.0\n",
            "3 12.5\n",
            "4 15.0\n",
            "5 17.5\n",
            "6 20.0\n",
            "7 20.0\n",
            "8 20.0\n"
          ]
        }
      ],
      "source": [
        "for numberHours in range (1, 9):\n",
        "  fee = 5 + 2.5 * numberHours\n",
        "  if fee < 10:\n",
        "   fee = 10.0\n",
        "  elif fee > 20:\n",
        "    fee = 20.0\n",
        "  print(numberHours, fee)\n"
      ]
    },
    {
      "cell_type": "code",
      "execution_count": null,
      "metadata": {
        "colab": {
          "base_uri": "https://localhost:8080/"
        },
        "id": "yGHxdS7Kc6bq",
        "outputId": "85196fed-83e8-476f-a5e1-5a65e00f1301"
      },
      "outputs": [
        {
          "name": "stdout",
          "output_type": "stream",
          "text": [
            "0.0 -200.0\n",
            "10.0 -190.0\n",
            "14.142135623730951 -185.85786437626905\n",
            "17.320508075688775 -182.67949192431124\n",
            "20.0 -180.0\n",
            "22.360679774997898 -177.6393202250021\n",
            "24.49489742783178 -175.50510257216823\n",
            "26.457513110645905 -173.5424868893541\n",
            "28.284271247461902 -171.7157287525381\n"
          ]
        }
      ],
      "source": [
        "FixedCost = 200\n",
        "for Ads in range (0,225,25):\n",
        "  People = 2*(Ads**.5)\n",
        "  Profit = People - FixedCost\n",
        "  print(People, Profit)"
      ]
    },
    {
      "cell_type": "code",
      "execution_count": null,
      "metadata": {
        "id": "ItXur6a5gzvZ"
      },
      "outputs": [],
      "source": [
        "for adMoney in range (0,201,25):\n",
        "  revenue = (20 + 2* round(adMoney**.5))*10\n",
        "  cost = 200 + adMoney\n",
        "  profit = revenue - cost\n",
        "  print = (adMoney,profit)\n"
      ]
    },
    {
      "cell_type": "code",
      "execution_count": null,
      "metadata": {
        "colab": {
          "base_uri": "https://localhost:8080/"
        },
        "id": "khIIFdOZI91h",
        "outputId": "b66f7d60-aef8-4a0e-a682-5a22030005af"
      },
      "outputs": [
        {
          "output_type": "stream",
          "name": "stderr",
          "text": [
            "ERROR:root:Internal Python error in the inspect module.\n",
            "Below is the traceback from this internal error.\n",
            "\n",
            "\n",
            "KeyboardInterrupt\n",
            "\n"
          ]
        }
      ],
      "source": [
        "start = input('Would you like to play? ')\n",
        "\n",
        "while start == 'yes':\n",
        "    p1 = input('Player 1 Move: ')\n",
        "    p2 = input('Player 2 Move: ')\n",
        "\n",
        "    if p1 == p2:\n",
        "        print('Draw')\n",
        "    elif p1 == 'Rock' and p2 == 'Scissors':\n",
        "        print('Player 1 wins!')\n",
        "    elif p1 == 'Scissors' and p2 == 'Paper':\n",
        "        print('Player 1 wins!')\n",
        "    elif p1 == 'Paper' and p2 == 'Rock':\n",
        "        print('Player 1 wins!')\n",
        "    else:\n",
        "        print('Player 2 wins!')\n",
        "\n",
        "    start = input('Would you like to play again? ')"
      ]
    },
    {
      "cell_type": "code",
      "execution_count": null,
      "metadata": {
        "id": "2g0iRAgoPBwL"
      },
      "outputs": [],
      "source": [
        "st =[]\n",
        "num = float(input('Give a number'))\n",
        "while num !=0.0:\n",
        "  st.append(num)\n",
        "  num = float(input('Give a number'))\n",
        "st.sort(reverse=True)\n",
        "print(st)\n",
        "\n",
        "\n",
        "\n"
      ]
    },
    {
      "cell_type": "code",
      "execution_count": null,
      "metadata": {
        "colab": {
          "base_uri": "https://localhost:8080/"
        },
        "id": "7w3W3XAix0BF",
        "outputId": "2b472070-f97b-4887-d33d-d5825fb87bb0"
      },
      "outputs": [
        {
          "data": {
            "text/plain": [
              "{1: 'Jan',\n",
              " 2: 'Feb',\n",
              " 3: 'Mar',\n",
              " 4: 'Apr',\n",
              " 5: 'May',\n",
              " 6: 'Jun',\n",
              " 7: 'Jul',\n",
              " 8: 'Aug',\n",
              " 9: 'Sep',\n",
              " 10: 'Oct',\n",
              " 11: 'Nov',\n",
              " 12: 'Dec'}"
            ]
          },
          "execution_count": 13,
          "metadata": {},
          "output_type": "execute_result"
        }
      ],
      "source": [
        "months = {}\n",
        "names = [\"Jan\",\"Feb\",\"Mar\",\"Apr\",\"May\",\"Jun\",\"Jul\",\"Aug\",\"Sep\",\"Oct\",\"Nov\",\"Dec\"]\n",
        "numbers = [1,2,3,4,5,6,7,8,9,10,11,12]\n",
        "for num in numbers:\n",
        "  months[num] =names[num-1]\n",
        "months\n",
        "\n",
        "\n"
      ]
    },
    {
      "cell_type": "code",
      "execution_count": null,
      "metadata": {
        "colab": {
          "base_uri": "https://localhost:8080/"
        },
        "id": "jshHO2rJ3vhz",
        "outputId": "1465bb8a-7b48-44c7-9f5d-95bde2755b9f"
      },
      "outputs": [
        {
          "name": "stdout",
          "output_type": "stream",
          "text": [
            "Give a string: 1\n",
            "Give a string: 2\n",
            "Give a string: 3\n",
            "Give a string: 4\n",
            "Give a string: 5\n"
          ]
        },
        {
          "data": {
            "text/plain": [
              "{'1': 1, '2': 1, '3': 1, '4': 1, '5': 1}"
            ]
          },
          "execution_count": 17,
          "metadata": {},
          "output_type": "execute_result"
        }
      ],
      "source": [
        "counts = {}\n",
        "while len(counts)<5:\n",
        "  key =input('Give a string: ')\n",
        "  if key not in counts:\n",
        "    counts[key]=1\n",
        "  else:\n",
        "    counts[key]=counts[key] + 1\n",
        "counts"
      ]
    },
    {
      "cell_type": "code",
      "execution_count": null,
      "metadata": {
        "colab": {
          "base_uri": "https://localhost:8080/"
        },
        "id": "DLw0llGe6uHs",
        "outputId": "4846a768-bb6d-4adf-86db-49d29ac91037"
      },
      "outputs": [
        {
          "metadata": {
            "tags": null
          },
          "name": "stdout",
          "output_type": "stream",
          "text": [
            "Program starts...\n"
          ]
        }
      ],
      "source": [
        "def calcFee(hours):\n",
        "  fee = 5 + 2.5 * hours\n",
        "  if fee < 10.00:\n",
        "    fee = 10\n",
        "  elif fee >= 20.0:\n",
        "    fee = 20.0\n",
        "  print(f'Fee: {fee}$')\n",
        "  return\n",
        "\n",
        "\n",
        "print('Program starts...')\n",
        "numHours = int(input('Enter number of hours: '))\n",
        "fee = calcFee(numHours)\n",
        "\n"
      ]
    },
    {
      "cell_type": "code",
      "source": [
        "def reverse (s):\n",
        "  if len(s) <= 1:\n",
        "    return s\n",
        "  else:\n",
        "    return s[-1] + reverse(s[:-1])\n",
        "reverse('Hello')"
      ],
      "metadata": {
        "colab": {
          "base_uri": "https://localhost:8080/",
          "height": 35
        },
        "id": "5zddzlMk4c1h",
        "outputId": "8ca13660-c2f4-46fd-edb4-04a4b50226ca"
      },
      "execution_count": null,
      "outputs": [
        {
          "output_type": "execute_result",
          "data": {
            "text/plain": [
              "'olleH'"
            ],
            "application/vnd.google.colaboratory.intrinsic+json": {
              "type": "string"
            }
          },
          "metadata": {},
          "execution_count": 5
        }
      ]
    },
    {
      "cell_type": "code",
      "source": [
        "def calcFee(hours):\n",
        "    fee = 5 + 2.5 * hours\n",
        "    if fee < 10.00:\n",
        "        fee = 10\n",
        "    elif fee >= 20.0:\n",
        "        fee = 20.0\n",
        "    print(f'Fee: {fee}$')\n",
        "    return fee\n",
        "\n",
        "def main():\n",
        "    try:\n",
        "        numHours = int(input('Enter number of hours: '))\n",
        "        fee = calcFee(numHours)\n",
        "    except ValueError:\n",
        "        print('Cannot cast to int().')\n",
        "\n",
        "if __name__ == \"__main__\":\n",
        "    main()\n",
        "\n"
      ],
      "metadata": {
        "id": "ZEYErAE0R-Vq"
      },
      "execution_count": null,
      "outputs": []
    },
    {
      "cell_type": "code",
      "source": [
        "class Greeting:\n",
        "  def __init__(self,first,last):\n",
        "    self.first=first\n",
        "    self.last=last\n",
        "  def display(self):\n",
        "   print('Hi',self.first,self.last)"
      ],
      "metadata": {
        "id": "4Md3o6JwYblf"
      },
      "execution_count": null,
      "outputs": []
    },
    {
      "cell_type": "code",
      "source": [
        "Greeting = Greeting(\"Donald\",\"Becker\")\n",
        "Greeting.display()"
      ],
      "metadata": {
        "colab": {
          "base_uri": "https://localhost:8080/"
        },
        "id": "4Lo3J4MlacSy",
        "outputId": "da276e61-a537-4ff4-f5dc-1fc8601a853e"
      },
      "execution_count": null,
      "outputs": [
        {
          "output_type": "stream",
          "name": "stdout",
          "text": [
            "Hi Donald Becker\n"
          ]
        }
      ]
    },
    {
      "cell_type": "code",
      "source": [
        "class Greeting:\n",
        "  def __init__(self,first,last):\n",
        "    self.first=first\n",
        "    self.last=last\n",
        "  def display (self,formal=False):\n",
        "    if formal:\n",
        "      print(\"Hello\", self.first, self.last)\n",
        "    else:\n",
        "      print(\"Hi\", self.first)\n",
        "  def __str__(self):\n",
        "    return f\"{self.first}, {self.last}\"\n",
        "  def __repr__(self):\n",
        "    return f\"{self.first}, {self.last}\"\n",
        "\n",
        "Greeting=Greeting(\"Donald\",\"Becker\")\n",
        "print(Greeting)"
      ],
      "metadata": {
        "colab": {
          "base_uri": "https://localhost:8080/"
        },
        "id": "Mr9k9f0KVvss",
        "outputId": "60da4f15-927c-4f14-d83d-4c402216cca2"
      },
      "execution_count": null,
      "outputs": [
        {
          "output_type": "stream",
          "name": "stdout",
          "text": [
            "Donald, Becker\n"
          ]
        }
      ]
    },
    {
      "cell_type": "code",
      "source": [
        "class Student:\n",
        "  def __init__(self,name,number,cources):\n",
        "    self.name=name\n",
        "    self.number=number\n",
        "    self.cources=[]\n",
        "  def enroll(self,course):\n",
        "    if course in self.cources:\n",
        "      print(\"You have lready enrolled in \",course)\n",
        "    else:\n",
        "      self.cources.append(course)\n",
        "  def get_cources(self):\n",
        "    return self.cources\n",
        "\n",
        "\n",
        "s1=Student(\"James\",666, \"BTE320\")\n",
        "s1.name,s1.number\n",
        "\n",
        "\n",
        "\n",
        "s1.enroll(\"BTE320\")\n",
        "s1.enroll(\"BTE400\")\n",
        "s1.enroll(\"BTE320\")\n",
        "s1.get_cources()\n"
      ],
      "metadata": {
        "id": "zmjCWT-mVyn4"
      },
      "execution_count": null,
      "outputs": []
    },
    {
      "cell_type": "code",
      "source": [
        "class Student:\n",
        "  def __init__(self,name,number,cources):\n",
        "    self.name=name\n",
        "    self.number=number\n",
        "    self.cources=[]\n",
        "  def enroll(self,course):\n",
        "    if course in self.cources:\n",
        "      print(\"You have lready enrolled in \",course)\n",
        "    else:\n",
        "      self.cources.append(course)\n",
        "  def get_cources(self):\n",
        "    return self.cources\n",
        "\n",
        "\n",
        "s1=Student(\"James\",666, \"BTE320\")\n",
        "s1.name,s1.number\n",
        "\n",
        "s1.enroll(\"BTE320\")\n",
        "s1.enroll(\"BTE400\")\n",
        "s1.enroll(\"BTE320\")\n",
        "s1.get_cources()\n"
      ],
      "metadata": {
        "id": "wKAYXbg-cSWk"
      },
      "execution_count": null,
      "outputs": []
    },
    {
      "cell_type": "code",
      "source": [
        "import math\n",
        "\n",
        "class Point:\n",
        "    def __init__(self, x, y):\n",
        "        self.x = x\n",
        "        self.y = y\n",
        "\n",
        "    def distance(self, other):\n",
        "        return math.sqrt((self.x - other.x)**2 + (self.y - other.y)**2)"
      ],
      "metadata": {
        "id": "2c1MSMn6dmD2"
      },
      "execution_count": null,
      "outputs": []
    },
    {
      "cell_type": "code",
      "source": [
        "import math\n",
        "\n",
        "class Rectangle:\n",
        "    def __init__(self, corner1, corner2, corner3, corner4)"
      ],
      "metadata": {
        "id": "qlhdT9WufZdC"
      },
      "execution_count": null,
      "outputs": []
    }
  ],
  "metadata": {
    "colab": {
      "provenance": [],
      "authorship_tag": "ABX9TyOlofaiWf4QSRoW6tsCqRiE",
      "include_colab_link": true
    },
    "kernelspec": {
      "display_name": "Python 3",
      "name": "python3"
    },
    "language_info": {
      "name": "python"
    }
  },
  "nbformat": 4,
  "nbformat_minor": 0
}