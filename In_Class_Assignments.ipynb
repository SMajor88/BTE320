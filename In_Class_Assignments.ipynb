{
  "nbformat": 4,
  "nbformat_minor": 0,
  "metadata": {
    "colab": {
      "provenance": []
    },
    "kernelspec": {
      "name": "python3",
      "display_name": "Python 3"
    },
    "language_info": {
      "name": "python"
    }
  },
  "cells": [
    {
      "cell_type": "code",
      "execution_count": null,
      "metadata": {
        "id": "moWfTpwADxn-"
      },
      "outputs": [],
      "source": [
        "pi = 3.14\n",
        "height = float(input(\"Please insert the height:\"))\n",
        "radius = float(input(\"Please insert the radius:\"))\n",
        "Area = 2 *pi * radius** + 2* pi*radius*height\n",
        "print(Area)"
      ]
    }
  ]
}